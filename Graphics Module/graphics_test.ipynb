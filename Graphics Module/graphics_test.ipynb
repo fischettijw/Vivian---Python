{
 "cells": [
  {
   "cell_type": "markdown",
   "metadata": {},
   "source": [
    "* [Simple Graphics Module](https://www.youtube.com/watch?v=R39vTAj1u_8&list=PLmzkEJ1Zz_uZ5nvTOLaGHfinCzEVEVBlz&index=1)\n",
    "* [Resize or Scale an image using python](https://www.youtube.com/watch?v=cWHW9MnX_F4)\n",
    "* [Documentation](https://mcsp.wartburg.edu/zelle/python/graphics/graphics/graphref.html)"
   ]
  },
  {
   "cell_type": "code",
   "execution_count": 15,
   "metadata": {},
   "outputs": [],
   "source": [
    "import graphics as g"
   ]
  },
  {
   "cell_type": "code",
   "execution_count": 16,
   "metadata": {},
   "outputs": [],
   "source": [
    "# WINDOW\n",
    "\n",
    "win = g.GraphWin(\"Graphics by Mark\", 500, 600)\n",
    "win.setBackground(\"yellow\")  # color_rgb(255, 0, 0)\n",
    "\n",
    "# win.getMouse()\n",
    "# win.close()"
   ]
  },
  {
   "cell_type": "code",
   "execution_count": 17,
   "metadata": {},
   "outputs": [],
   "source": [
    "# CIRCLE\n",
    "# print(win)\n",
    "pt = g.Point(250, 250)\n",
    "cir = g.Circle(pt, 50)  # Circle(Point(250, 250), 50)\n",
    "cir.setFill('red')\n",
    "cir.draw(win)\n",
    "cir.move(100,100)\n",
    "\n",
    "win.getMouse()\n",
    "win.close()"
   ]
  },
  {
   "cell_type": "code",
   "execution_count": 18,
   "metadata": {},
   "outputs": [
    {
     "ename": "GraphicsError",
     "evalue": "Can't draw to closed window",
     "output_type": "error",
     "traceback": [
      "\u001b[1;31m---------------------------------------------------------------------------\u001b[0m",
      "\u001b[1;31mGraphicsError\u001b[0m                             Traceback (most recent call last)",
      "\u001b[1;32m<ipython-input-18-43c63b88eeb9>\u001b[0m in \u001b[0;36m<module>\u001b[1;34m\u001b[0m\n\u001b[0;32m      6\u001b[0m \u001b[0mln\u001b[0m\u001b[1;33m.\u001b[0m\u001b[0msetFill\u001b[0m\u001b[1;33m(\u001b[0m\u001b[0mg\u001b[0m\u001b[1;33m.\u001b[0m\u001b[0mcolor_rgb\u001b[0m\u001b[1;33m(\u001b[0m\u001b[1;36m0\u001b[0m\u001b[1;33m,\u001b[0m \u001b[1;36m255\u001b[0m\u001b[1;33m,\u001b[0m \u001b[1;36m255\u001b[0m\u001b[1;33m)\u001b[0m\u001b[1;33m)\u001b[0m\u001b[1;33m\u001b[0m\u001b[1;33m\u001b[0m\u001b[0m\n\u001b[0;32m      7\u001b[0m \u001b[0mln\u001b[0m\u001b[1;33m.\u001b[0m\u001b[0msetWidth\u001b[0m\u001b[1;33m(\u001b[0m\u001b[1;36m10\u001b[0m\u001b[1;33m)\u001b[0m\u001b[1;33m\u001b[0m\u001b[1;33m\u001b[0m\u001b[0m\n\u001b[1;32m----> 8\u001b[1;33m \u001b[0mln\u001b[0m\u001b[1;33m.\u001b[0m\u001b[0mdraw\u001b[0m\u001b[1;33m(\u001b[0m\u001b[0mwin\u001b[0m\u001b[1;33m)\u001b[0m\u001b[1;33m\u001b[0m\u001b[1;33m\u001b[0m\u001b[0m\n\u001b[0m\u001b[0;32m      9\u001b[0m \u001b[1;33m\u001b[0m\u001b[0m\n\u001b[0;32m     10\u001b[0m \u001b[0mwin\u001b[0m\u001b[1;33m.\u001b[0m\u001b[0mgetMouse\u001b[0m\u001b[1;33m(\u001b[0m\u001b[1;33m)\u001b[0m\u001b[1;33m\u001b[0m\u001b[1;33m\u001b[0m\u001b[0m\n",
      "\u001b[1;32md:\\Documents\\VS Code\\Vivian - Python\\Graphics Module\\graphics.py\u001b[0m in \u001b[0;36mdraw\u001b[1;34m(self, graphwin)\u001b[0m\n\u001b[0;32m    486\u001b[0m             \u001b[1;32mraise\u001b[0m \u001b[0mGraphicsError\u001b[0m\u001b[1;33m(\u001b[0m\u001b[0mOBJ_ALREADY_DRAWN\u001b[0m\u001b[1;33m)\u001b[0m\u001b[1;33m\u001b[0m\u001b[1;33m\u001b[0m\u001b[0m\n\u001b[0;32m    487\u001b[0m         \u001b[1;32mif\u001b[0m \u001b[0mgraphwin\u001b[0m\u001b[1;33m.\u001b[0m\u001b[0misClosed\u001b[0m\u001b[1;33m(\u001b[0m\u001b[1;33m)\u001b[0m\u001b[1;33m:\u001b[0m\u001b[1;33m\u001b[0m\u001b[1;33m\u001b[0m\u001b[0m\n\u001b[1;32m--> 488\u001b[1;33m             \u001b[1;32mraise\u001b[0m \u001b[0mGraphicsError\u001b[0m\u001b[1;33m(\u001b[0m\u001b[1;34m\"Can't draw to closed window\"\u001b[0m\u001b[1;33m)\u001b[0m\u001b[1;33m\u001b[0m\u001b[1;33m\u001b[0m\u001b[0m\n\u001b[0m\u001b[0;32m    489\u001b[0m         \u001b[0mself\u001b[0m\u001b[1;33m.\u001b[0m\u001b[0mcanvas\u001b[0m \u001b[1;33m=\u001b[0m \u001b[0mgraphwin\u001b[0m\u001b[1;33m\u001b[0m\u001b[1;33m\u001b[0m\u001b[0m\n\u001b[0;32m    490\u001b[0m         \u001b[0mself\u001b[0m\u001b[1;33m.\u001b[0m\u001b[0mid\u001b[0m \u001b[1;33m=\u001b[0m \u001b[0mself\u001b[0m\u001b[1;33m.\u001b[0m\u001b[0m_draw\u001b[0m\u001b[1;33m(\u001b[0m\u001b[0mgraphwin\u001b[0m\u001b[1;33m,\u001b[0m \u001b[0mself\u001b[0m\u001b[1;33m.\u001b[0m\u001b[0mconfig\u001b[0m\u001b[1;33m)\u001b[0m\u001b[1;33m\u001b[0m\u001b[1;33m\u001b[0m\u001b[0m\n",
      "\u001b[1;31mGraphicsError\u001b[0m: Can't draw to closed window"
     ]
    }
   ],
   "source": [
    "# LINE\n",
    "\n",
    "pt1 = g.Point(10, 10)\n",
    "pt2 = g.Point(100, 350)\n",
    "ln = g.Line(pt1, pt2)\n",
    "ln.setFill(g.color_rgb(0, 255, 255))\n",
    "ln.setWidth(10)\n",
    "ln.draw(win)\n",
    "\n",
    "win.getMouse()\n",
    "# win.close()"
   ]
  },
  {
   "cell_type": "code",
   "execution_count": null,
   "metadata": {},
   "outputs": [],
   "source": [
    "# RECTANGLE\n",
    "\n",
    "rect = g.Rectangle(g.Point(200, 50), g.Point(400, 150))\n",
    "rect.setOutline(\"yellow\")\n",
    "rect.setFill(\"magenta\")\n",
    "rect.setWidth(5)\n",
    "rect.draw(win)\n",
    "\n",
    "win.getMouse()\n",
    "# win.close()"
   ]
  },
  {
   "cell_type": "code",
   "execution_count": null,
   "metadata": {},
   "outputs": [],
   "source": [
    "# POLYGON\n",
    "\n",
    "poly = g.Polygon(g.Point(40, 40), g.Point(100, 100), g.Point(40, 100))\n",
    "poly.setFill(\"green\")\n",
    "poly.draw(win)\n",
    "\n",
    "win.getMouse()\n",
    "# win.close()"
   ]
  },
  {
   "cell_type": "code",
   "execution_count": null,
   "metadata": {},
   "outputs": [],
   "source": [
    "# INPUT\n",
    "\n",
    "inputBox = g.Entry(g.Point(250, 250), 10)  # 10 max characters\n",
    "inputBox.draw(win)\n",
    "txt = g.Text(g.Point(250, 280), \"\")\n",
    "txt.draw(win)\n",
    "\n",
    "while win.getMouse() == False:\n",
    "    txt.setText(inputBox.getText())\n",
    "    \n",
    "\n",
    "# win.getMouse()\n",
    "# win.close()"
   ]
  },
  {
   "cell_type": "code",
   "execution_count": null,
   "metadata": {},
   "outputs": [],
   "source": [
    "# OVAL\n",
    "\n",
    "oval = g.Oval(g.Point(100, 50), g.Point(300, 150))\n",
    "# oval.setOutline(\"magenta\")\n",
    "oval.setFill(\"black\")\n",
    "# oval.setWidth(5)\n",
    "oval.draw(win)\n",
    "\n",
    "win.getMouse()\n",
    "# win.close()"
   ]
  },
  {
   "cell_type": "code",
   "execution_count": null,
   "metadata": {},
   "outputs": [],
   "source": [
    "# TEXT\n",
    "\n",
    "text = g.Text(g.Point(250,325), \"Abigail\")\n",
    "text.setFace(\"arial\")\n",
    "text.setSize(24)\n",
    "text.setStyle(\"bold italic\")\n",
    "text.setTextColor(\"blue\")\n",
    "\n",
    "text.draw(win)\n",
    "\n",
    "win.getMouse()\n",
    "# win.close()"
   ]
  },
  {
   "cell_type": "code",
   "execution_count": null,
   "metadata": {},
   "outputs": [],
   "source": [
    "img = g.Image(g.Point(250,450), \"apple.png\")\n",
    "img.draw(win)\n",
    "\n",
    "win.getMouse()\n",
    "# win.close()"
   ]
  },
  {
   "cell_type": "code",
   "execution_count": null,
   "metadata": {},
   "outputs": [],
   "source": [
    "# CLOSE\n",
    "\n",
    "win.close()"
   ]
  }
 ],
 "metadata": {
  "kernelspec": {
   "display_name": "Python 3.9.4 64-bit",
   "language": "python",
   "name": "python3"
  },
  "language_info": {
   "codemirror_mode": {
    "name": "ipython",
    "version": 3
   },
   "file_extension": ".py",
   "mimetype": "text/x-python",
   "name": "python",
   "nbconvert_exporter": "python",
   "pygments_lexer": "ipython3",
   "version": "3.9.4"
  },
  "orig_nbformat": 4,
  "vscode": {
   "interpreter": {
    "hash": "b1200c1dd7a91a7c1b6d56890176a83d3d524151a45e4b2ed5e5fcaf425d2182"
   }
  }
 },
 "nbformat": 4,
 "nbformat_minor": 2
}
