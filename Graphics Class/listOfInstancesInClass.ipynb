{
 "cells": [
  {
   "cell_type": "code",
   "execution_count": 6,
   "metadata": {},
   "outputs": [
    {
     "name": "stdout",
     "output_type": "stream",
     "text": [
      "red 5\n",
      "green 2\n",
      "blue 33\n",
      "\n",
      "red 5\n",
      "green 2\n",
      "blue 33\n",
      "/// blue\n",
      "\n",
      "-- red 5 --\n",
      "-- green 2 --\n",
      "-- blue 33 --\n",
      "*** green\n",
      "\n",
      "3\n"
     ]
    }
   ],
   "source": [
    "class clr:\n",
    "    clrs = []\n",
    "    def __init__(self, c, n):\n",
    "        self.c = c\n",
    "        self.n = n\n",
    "        clr.clrs.append(self)\n",
    "        \n",
    "    def printClr():\n",
    "        for color in clr.clrs:\n",
    "            print(\"--\",color.c, color.n, \"--\")\n",
    "        print(\"***\", clr.clrs[1].c)\n",
    "\n",
    "        \n",
    "x = clr(\"red\", 5)\n",
    "y = clr(\"green\", 2)\n",
    "z = clr(\"blue\", 33)\n",
    "\n",
    "print(x.c, x.n)\n",
    "print(y.c, y.n)\n",
    "print(z.c, z.n)\n",
    "print()\n",
    "\n",
    "for color in clr.clrs:\n",
    "    print(color.c, color.n)\n",
    "print(\"///\", clr.clrs[2].c)\n",
    "print()\n",
    "\n",
    "clr.printClr()\n",
    "print()\n",
    "\n",
    "print(len(clr.clrs))"
   ]
  }
 ],
 "metadata": {
  "kernelspec": {
   "display_name": "Python 3.10.0 64-bit",
   "language": "python",
   "name": "python3"
  },
  "language_info": {
   "codemirror_mode": {
    "name": "ipython",
    "version": 3
   },
   "file_extension": ".py",
   "mimetype": "text/x-python",
   "name": "python",
   "nbconvert_exporter": "python",
   "pygments_lexer": "ipython3",
   "version": "3.10.0"
  },
  "orig_nbformat": 4,
  "vscode": {
   "interpreter": {
    "hash": "55125eb385e0c0d755fc5f37386f2ea38c7258d1a247623fdfaaa2156dfe2ce3"
   }
  }
 },
 "nbformat": 4,
 "nbformat_minor": 2
}
