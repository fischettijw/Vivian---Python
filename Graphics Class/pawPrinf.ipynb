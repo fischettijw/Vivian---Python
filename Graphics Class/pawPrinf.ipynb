{
 "cells": [
  {
   "cell_type": "markdown",
   "metadata": {},
   "source": [
    "**[Simple Python Bouncing Ball Game Tutorial](https://www.youtube.com/watch?v=NeMuwvzND5k)**"
   ]
  },
  {
   "cell_type": "code",
   "execution_count": 1,
   "metadata": {},
   "outputs": [],
   "source": [
    "import graphics as g"
   ]
  },
  {
   "cell_type": "code",
   "execution_count": 2,
   "metadata": {},
   "outputs": [],
   "source": [
    "win = g.GraphWin(\"Paw Print by Vivian\", 800, 600)\n",
    "win.setBackground(\"yellow\")\n",
    "# win.setCoords(0,2400,3200,0)\n",
    "scale = .25\n",
    "win.setCoords((1/scale)*0,(1/scale)*600,(1/scale)*800,(1/scale)*0)\n",
    "# win.setCoords(0,600,800,0)"
   ]
  },
  {
   "cell_type": "code",
   "execution_count": 3,
   "metadata": {},
   "outputs": [
    {
     "data": {
      "text/plain": [
       "Circle(Point(100.0, 200.0), 75)"
      ]
     },
     "execution_count": 3,
     "metadata": {},
     "output_type": "execute_result"
    }
   ],
   "source": [
    "pt = g.Point(100,200)\n",
    "cir = g.Circle(pt,75)\n",
    "cir.setFill('brown')\n",
    "cir.draw(win)"
   ]
  },
  {
   "cell_type": "code",
   "execution_count": 4,
   "metadata": {},
   "outputs": [
    {
     "data": {
      "text/plain": [
       "Circle(Point(300.0, 100.0), 75)"
      ]
     },
     "execution_count": 4,
     "metadata": {},
     "output_type": "execute_result"
    }
   ],
   "source": [
    "pt = g.Point(300,100)\n",
    "cir = g.Circle(pt,75)\n",
    "cir.setFill('brown')\n",
    "cir.draw(win)"
   ]
  },
  {
   "cell_type": "code",
   "execution_count": 5,
   "metadata": {},
   "outputs": [
    {
     "data": {
      "text/plain": [
       "Circle(Point(500.0, 100.0), 75)"
      ]
     },
     "execution_count": 5,
     "metadata": {},
     "output_type": "execute_result"
    }
   ],
   "source": [
    "pt = g.Point(500,100)\n",
    "cir = g.Circle(pt,75)\n",
    "cir.setFill('brown')\n",
    "cir.draw(win)"
   ]
  },
  {
   "cell_type": "code",
   "execution_count": 6,
   "metadata": {},
   "outputs": [
    {
     "data": {
      "text/plain": [
       "Circle(Point(700.0, 220.0), 75)"
      ]
     },
     "execution_count": 6,
     "metadata": {},
     "output_type": "execute_result"
    }
   ],
   "source": [
    "pt = g.Point(700,220)\n",
    "cir = g.Circle(pt,75)\n",
    "cir.setFill('brown')\n",
    "cir.draw(win)"
   ]
  },
  {
   "cell_type": "code",
   "execution_count": 7,
   "metadata": {},
   "outputs": [
    {
     "data": {
      "text/plain": [
       "Circle(Point(400.0, 400.0), 175)"
      ]
     },
     "execution_count": 7,
     "metadata": {},
     "output_type": "execute_result"
    }
   ],
   "source": [
    "pt = g.Point(400,400)\n",
    "cir = g.Circle(pt,175)\n",
    "cir.setFill('brown')\n",
    "cir.draw(win)"
   ]
  },
  {
   "cell_type": "code",
   "execution_count": 8,
   "metadata": {},
   "outputs": [],
   "source": [
    "win.getMouse()\n",
    "win.close()"
   ]
  }
 ],
 "metadata": {
  "kernelspec": {
   "display_name": "Python 3.9.4 64-bit",
   "language": "python",
   "name": "python3"
  },
  "language_info": {
   "codemirror_mode": {
    "name": "ipython",
    "version": 3
   },
   "file_extension": ".py",
   "mimetype": "text/x-python",
   "name": "python",
   "nbconvert_exporter": "python",
   "pygments_lexer": "ipython3",
   "version": "3.9.4"
  },
  "orig_nbformat": 4,
  "vscode": {
   "interpreter": {
    "hash": "b1200c1dd7a91a7c1b6d56890176a83d3d524151a45e4b2ed5e5fcaf425d2182"
   }
  }
 },
 "nbformat": 4,
 "nbformat_minor": 2
}
