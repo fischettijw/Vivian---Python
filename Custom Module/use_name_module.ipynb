{
 "cells": [
  {
   "cell_type": "markdown",
   "metadata": {},
   "source": [
    "**<center>THIS PROGRAM MUST REFERENCE THE \"name_module TO RUN CORRECTLY</center>**"
   ]
  },
  {
   "cell_type": "markdown",
   "metadata": {},
   "source": [
    "**The following FUNCTIONS exist in the \"name_module\":**\n",
    "\n",
    " - f> first name\n",
    " - m> middle name\n",
    " - l> last name\n",
    " - fn> full name\n",
    "\n",
    "***\n",
    "\n",
    "1. &emsp;def create_full_name(f, m, l):\n",
    "2. &emsp;def get_name_list(fn):\n",
    "3. &emsp;def get_first_name(fn):\n",
    "4. &emsp;def get_middle_name(fn):\n",
    "5. &emsp;def get_last_name(fn):"
   ]
  },
  {
   "cell_type": "code",
   "execution_count": 9,
   "metadata": {},
   "outputs": [],
   "source": [
    "import name_module as nm"
   ]
  },
  {
   "cell_type": "code",
   "execution_count": 10,
   "metadata": {},
   "outputs": [
    {
     "name": "stdout",
     "output_type": "stream",
     "text": [
      "Vivian Elizabeth Reed\n"
     ]
    }
   ],
   "source": [
    "full_name = nm.create_full_name(\"Vivian\", \"Elizabeth\", \"Reed\")\n",
    "print(full_name)"
   ]
  },
  {
   "cell_type": "code",
   "execution_count": 12,
   "metadata": {},
   "outputs": [
    {
     "name": "stdout",
     "output_type": "stream",
     "text": [
      "['Vivian', 'Elizabeth', 'Reed']\n",
      "Vivian\n",
      "Elizabeth\n",
      "Reed\n"
     ]
    }
   ],
   "source": [
    "nList = nm.get_name_list(full_name)\n",
    "print(nList)\n",
    "print(nList[0])\n",
    "print(nList[1])\n",
    "print(nList[2])"
   ]
  },
  {
   "cell_type": "code",
   "execution_count": 13,
   "metadata": {},
   "outputs": [
    {
     "name": "stdout",
     "output_type": "stream",
     "text": [
      "Vivian\n"
     ]
    }
   ],
   "source": [
    "first = nm.get_first_name(full_name)\n",
    "print(first)"
   ]
  },
  {
   "cell_type": "code",
   "execution_count": 14,
   "metadata": {},
   "outputs": [
    {
     "name": "stdout",
     "output_type": "stream",
     "text": [
      "Elizabeth\n"
     ]
    }
   ],
   "source": [
    "middle = nm.get_middle_name(full_name)\n",
    "print(middle)"
   ]
  },
  {
   "cell_type": "code",
   "execution_count": 15,
   "metadata": {},
   "outputs": [
    {
     "name": "stdout",
     "output_type": "stream",
     "text": [
      "Reed\n"
     ]
    }
   ],
   "source": [
    "last = nm.get_last_name(full_name)\n",
    "print(last)"
   ]
  }
 ],
 "metadata": {
  "kernelspec": {
   "display_name": "Python 3.9.4 64-bit",
   "language": "python",
   "name": "python3"
  },
  "language_info": {
   "codemirror_mode": {
    "name": "ipython",
    "version": 3
   },
   "file_extension": ".py",
   "mimetype": "text/x-python",
   "name": "python",
   "nbconvert_exporter": "python",
   "pygments_lexer": "ipython3",
   "version": "3.9.4"
  },
  "orig_nbformat": 4,
  "vscode": {
   "interpreter": {
    "hash": "b1200c1dd7a91a7c1b6d56890176a83d3d524151a45e4b2ed5e5fcaf425d2182"
   }
  }
 },
 "nbformat": 4,
 "nbformat_minor": 2
}
