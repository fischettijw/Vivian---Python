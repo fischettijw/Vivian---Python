{
 "cells": [
  {
   "cell_type": "code",
   "execution_count": null,
   "metadata": {},
   "outputs": [],
   "source": [
    "# https://pyttsx3.readthedocs.io/en/latest/\n",
    "\n",
    "import pyttsx3 as ttsx3\n",
    "\n",
    "ttsObject = ttsx3.init()\n",
    "ttsObject.setProperty(\"voice\",\"HKEY_LOCAL_MACHINE\\SOFTWARE\\Microsoft\\Speech\\Voices\\Tokens\\TTS_MS_EN-US_DAVID_11.0\")\n",
    "ttsObject.say(\"Hello. My name is John\")\n",
    "ttsObject.runAndWait()\n",
    "\n",
    "\n",
    "# ttsObject = ttsx3.init()\n",
    "voices = ttsObject.getProperty(\"voices\")\n",
    "print(voices[0].id)\n",
    "for voice in voices:\n",
    "    ttsObject.setProperty(\"voice\", voice.id)\n",
    "    ttsObject.say(\"The quick brown fox jumped over the lazy dogs.\")\n",
    "    ttsObject.runAndWait()\n",
    "    print(voice.id)\n"
   ]
  }
 ],
 "metadata": {
  "kernelspec": {
   "display_name": "Python 3.10.0 64-bit",
   "language": "python",
   "name": "python3"
  },
  "language_info": {
   "codemirror_mode": {
    "name": "ipython",
    "version": 3
   },
   "file_extension": ".py",
   "mimetype": "text/x-python",
   "name": "python",
   "nbconvert_exporter": "python",
   "pygments_lexer": "ipython3",
   "version": "3.10.0"
  },
  "orig_nbformat": 4,
  "vscode": {
   "interpreter": {
    "hash": "55125eb385e0c0d755fc5f37386f2ea38c7258d1a247623fdfaaa2156dfe2ce3"
   }
  }
 },
 "nbformat": 4,
 "nbformat_minor": 2
}
