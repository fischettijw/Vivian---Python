{
 "cells": [
  {
   "cell_type": "markdown",
   "metadata": {},
   "source": [
    "\n",
    "# [pip install to specific python version](https://www.codegrepper.com/code-examples/python/pip+install+to+specific+python+version)\n",
    "\n",
    "# [Selecting correct Python interpreter in VSCode](https://www.youtube.com/watch?v=GqTsFOtZiQI)\n",
    "\n",
    "##### python -m pip install SomePackage==1.0.4    # specific version\n",
    "##### python -m pip install \"SomePackage>=1.0.4\"  # minimum version\n",
    "\n",
    "##### What version of Python am I using ?\n",
    "##### py -0 ............ python -V ............ python"
   ]
  },
  {
   "cell_type": "code",
   "execution_count": 1,
   "metadata": {},
   "outputs": [
    {
     "name": "stdout",
     "output_type": "stream",
     "text": [
      "HKEY_LOCAL_MACHINE\\SOFTWARE\\Microsoft\\Speech\\Voices\\Tokens\\TTS_MS_EN-US_DAVID_11.0\n",
      "HKEY_LOCAL_MACHINE\\SOFTWARE\\Microsoft\\Speech\\Voices\\Tokens\\TTS_MS_EN-US_ZIRA_11.0\n"
     ]
    }
   ],
   "source": [
    "# https://pyttsx3.readthedocs.io/en/latest/\n",
    "\n",
    "import pyttsx3 as ttsx3\n",
    "\n",
    "ttsObject = ttsx3.init()\n",
    "# ttsObject.say(\"Hello. My name is Vivian\")\n",
    "# ttsObject.runAndWait()\n",
    "\n",
    "\n",
    "# ttsObject = ttsx3.init()\n",
    "voices = ttsObject.getProperty(\"voices\")\n",
    "for voice in voices:\n",
    "    ttsObject.setProperty(\"voice\", voice.id)\n",
    "    ttsObject.say(\"The quick brown fox jumped over the lazy dog.\")\n",
    "    print(voice.id)\n",
    "    ttsObject.runAndWait()\n"
   ]
  },
  {
   "cell_type": "code",
   "execution_count": 2,
   "metadata": {},
   "outputs": [
    {
     "name": "stdout",
     "output_type": "stream",
     "text": [
      "INPUT: Hello, my name is Vivian.\n",
      "OUTPUT:  Hola, mi nombre es Vivian.\n",
      "\n",
      "INPUT: Hola, mi nombre es Vivian.\n",
      "OUTPUT:  Hello, my name is Vivian.\n",
      "\n"
     ]
    }
   ],
   "source": [
    "#  pip install googletrans\n",
    "#  pip install googletrans==4.0.0rc1\n",
    "#  pip show googletrans\n",
    "#  https://py-googletrans.readthedocs.io/en/latest/\n",
    "#  https://zetcode.com/python/googletrans/\n",
    "\n",
    "from googletrans import Translator\n",
    "\n",
    "translator = Translator()\n",
    "input = \"Hello, my name is Vivian.\"\n",
    "print(\"INPUT:\", input)\n",
    "# print(translator.detect(input))\n",
    "output = translator.translate(input, src=\"en\", dest=\"es\")\n",
    "print(\"OUTPUT: \", output.text)\n",
    "print()\n",
    "\n",
    "translator = Translator()\n",
    "input = \"Hola, mi nombre es Vivian.\"\n",
    "print(\"INPUT:\", input)\n",
    "# print(translator.detect(input))\n",
    "output = translator.translate(input, src=\"es\", dest=\"en\")\n",
    "print(\"OUTPUT: \", output.text)\n",
    "print()\n"
   ]
  }
 ],
 "metadata": {
  "kernelspec": {
   "display_name": "Python 3.10.0 64-bit",
   "language": "python",
   "name": "python3"
  },
  "language_info": {
   "codemirror_mode": {
    "name": "ipython",
    "version": 3
   },
   "file_extension": ".py",
   "mimetype": "text/x-python",
   "name": "python",
   "nbconvert_exporter": "python",
   "pygments_lexer": "ipython3",
   "version": "3.10.0"
  },
  "orig_nbformat": 4,
  "vscode": {
   "interpreter": {
    "hash": "55125eb385e0c0d755fc5f37386f2ea38c7258d1a247623fdfaaa2156dfe2ce3"
   }
  }
 },
 "nbformat": 4,
 "nbformat_minor": 2
}
