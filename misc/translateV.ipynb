{
 "cells": [
  {
   "cell_type": "code",
   "execution_count": null,
   "metadata": {},
   "outputs": [],
   "source": [
    "#  pip install googletrans\n",
    "#  pip install googletrans==4.0.0rc1\n",
    "#  pip show googletrans\n",
    "#  https://py-googletrans.readthedocs.io/en/latest/\n",
    "#  https://zetcode.com/python/googletrans/\n",
    "\n",
    "from googletrans import Translator\n",
    "\n",
    "translator = Translator()\n",
    "input = \"Hello, my name is Vivian.\"\n",
    "print(\"INPUT:\", input)\n",
    "# print(translator.detect(input))\n",
    "output = translator.translate(input, src=\"en\", dest=\"es\")\n",
    "print(\"OUTPUT: \", output.text)\n",
    "print()\n",
    "\n",
    "translator = Translator()\n",
    "input = \"Hola, mi nombre es Vivian.\"\n",
    "print(\"INPUT:\", input)\n",
    "# print(translator.detect(input))\n",
    "output = translator.translate(input, src=\"es\", dest=\"en\")\n",
    "print(\"OUTPUT: \", output.text)\n",
    "print()\n"
   ]
  }
 ],
 "metadata": {
  "kernelspec": {
   "display_name": "Python 3.10.0 64-bit",
   "language": "python",
   "name": "python3"
  },
  "language_info": {
   "codemirror_mode": {
    "name": "ipython",
    "version": 3
   },
   "file_extension": ".py",
   "mimetype": "text/x-python",
   "name": "python",
   "nbconvert_exporter": "python",
   "pygments_lexer": "ipython3",
   "version": "3.10.0"
  },
  "orig_nbformat": 4,
  "vscode": {
   "interpreter": {
    "hash": "55125eb385e0c0d755fc5f37386f2ea38c7258d1a247623fdfaaa2156dfe2ce3"
   }
  }
 },
 "nbformat": 4,
 "nbformat_minor": 2
}
