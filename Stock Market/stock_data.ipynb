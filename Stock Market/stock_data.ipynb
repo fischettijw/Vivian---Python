{
 "cells": [
  {
   "cell_type": "markdown",
   "metadata": {},
   "source": [
    "* [How To Pull Stock Market Data Into Python](https://www.youtube.com/watch?v=-_ejnRYnPms)\n",
    "* [Introduction to the yfinance Python Package](https://www.youtube.com/watch?v=NnE1KVhSyzw)\n",
    "* [Python 'yfinance' Module Documentation ](https://pypi.org/project/yfinance/)\n",
    "* [Getting Stock Market Data From Yahoo Finance API with Python](https://www.youtube.com/watch?v=nyFEnRpvZqo)\n",
    "* [Download data from Yahoo Finance and make OHLC chart — Python](https://tokensquant.medium.com/download-data-from-yahoo-finance-and-make-ohlc-chart-python-cad894cd8408)"
   ]
  },
  {
   "cell_type": "code",
   "execution_count": 1,
   "metadata": {},
   "outputs": [],
   "source": [
    "import yfinance as yf"
   ]
  },
  {
   "cell_type": "code",
   "execution_count": 2,
   "metadata": {},
   "outputs": [],
   "source": [
    "stock_symbol = \"T\""
   ]
  },
  {
   "cell_type": "code",
   "execution_count": 3,
   "metadata": {},
   "outputs": [
    {
     "name": "stdout",
     "output_type": "stream",
     "text": [
      "[*********************100%***********************]  1 of 1 completed\n"
     ]
    },
    {
     "data": {
      "text/plain": [
       "<AxesSubplot:xlabel='Date'>"
      ]
     },
     "execution_count": 3,
     "metadata": {},
     "output_type": "execute_result"
    },
    {
     "data": {
      "image/png": "[encoded data removed]",
      "text/plain": [
       "<Figure size 432x288 with 1 Axes>"
      ]
     },
     "metadata": {
      "needs_background": "light"
     },
     "output_type": "display_data"
    }
   ],
   "source": [
    "data = yf.download(stock_symbol,'2022-01-01', '2022-09-22')\n",
    "data.Close.plot()"
   ]
  },
  {
   "cell_type": "code",
   "execution_count": 4,
   "metadata": {},
   "outputs": [
    {
     "name": "stdout",
     "output_type": "stream",
     "text": [
      "                 Open       High        Low      Close  Adj Close     Volume\n",
      "Date                                                                        \n",
      "2022-01-03  18.716011  19.320242  18.716011  19.206949  18.192400   76970210\n",
      "2022-01-04  19.373112  19.546827  19.214502  19.365559  18.342630   72918108\n",
      "2022-01-05  19.637463  20.256798  19.637463  19.796074  18.750404  125367971\n",
      "2022-01-06  20.173716  20.234138  19.592146  19.720545  18.678865   93758133\n",
      "2022-01-07  19.569487  20.030210  19.463745  19.856495  19.316994   98164670\n",
      "...               ...        ...        ...        ...        ...        ...\n",
      "2022-09-15  16.830000  16.920000  16.629999  16.760000  16.760000   38637300\n",
      "2022-09-16  16.670000  16.809999  16.549999  16.740000  16.740000   69797800\n",
      "2022-09-19  16.629999  16.860001  16.580000  16.760000  16.760000   33805300\n",
      "2022-09-20  16.650000  16.650000  16.459999  16.559999  16.559999   36187500\n",
      "2022-09-21  16.580000  16.660000  16.250000  16.250000  16.250000   38815600\n",
      "\n",
      "[181 rows x 6 columns]\n"
     ]
    }
   ],
   "source": [
    "print(data)"
   ]
  },
  {
   "cell_type": "code",
   "execution_count": 5,
   "metadata": {},
   "outputs": [
    {
     "name": "stdout",
     "output_type": "stream",
     "text": [
      "yfinance.Ticker object <LUMN>\n",
      "{'zip': '71203', 'sector': 'Communication Services', 'fullTimeEmployees': 35000, 'longBusinessSummary': 'Lumen Technologies, Inc., a facilities-based technology and communications company, provides various integrated products and services under the Lumen, Quantum Fiber, and CenturyLink brands to business and residential customers in the United States and internationally. The company operates in two segments, Business and Mass Markets. It offers compute and application services, such as cloud services, IT solutions, unified communication and collaboration solutions, colocation and data center services, content delivery services, and managed security services; and IP and data services, including VPN data network, Ethernet, internet protocol (IP), and voice over internet protocol. The company also provides fiber infrastructure services comprising high bandwidth optical wavelength networks; and unlit optical fiber and related professional services. In addition, it offers voice and other services, including private line services, a direct circuit or channel specifically dedicated for connecting two or more organizational sites; a portfolio of traditional time division multiplexing voice services; and synchronous optical network-based Ethernet, legacy data hosting services, and conferencing services. As of December 31, 2021, the company served approximately 4.5 million broadband subscribers. The company was formerly known as CenturyLink, Inc. and changed its name to Lumen Technologies, Inc. in September 2020. Lumen Technologies, Inc. was incorporated in 1968 and is headquartered in Monroe, Louisiana.', 'city': 'Monroe', 'phone': '318 388 9000', 'state': 'LA', 'country': 'United States', 'companyOfficers': [], 'website': 'https://www.lumen.com', 'maxAge': 1, 'address1': '100 CenturyLink Drive', 'industry': 'Telecom Services', 'ebitdaMargins': 0.39001998, 'profitMargins': 0.10488, 'grossMargins': 0.56471, 'operatingCashflow': 6108000256, 'revenueGrowth': -0.063, 'operatingMargins': 0.20907, 'ebitda': 7418999808, 'targetLowPrice': 8, 'recommendationKey': 'hold', 'grossProfits': 11199000000, 'freeCashflow': -4661125120, 'targetMedianPrice': 11, 'currentPrice': 8.13, 'earningsGrowth': -0.262, 'currentRatio': 2.039, 'returnOnAssets': 0.042630002, 'numberOfAnalystOpinions': 11, 'targetMeanPrice': 10.36, 'debtToEquity': 233.415, 'returnOnEquity': 0.16677, 'targetHighPrice': 12.5, 'totalCash': 360000000, 'totalDebt': 28521000960, 'totalRevenue': 19022000128, 'totalCashPerShare': 0.348, 'financialCurrency': 'USD', 'revenuePerShare': 18.601, 'quickRatio': 0.327, 'recommendationMean': 3.5, 'exchange': 'NYQ', 'shortName': 'Lumen Technologies, Inc.', 'longName': 'Lumen Technologies, Inc.', 'exchangeTimezoneName': 'America/New_York', 'exchangeTimezoneShortName': 'EDT', 'isEsgPopulated': False, 'gmtOffSetMilliseconds': '-14400000', 'quoteType': 'EQUITY', 'symbol': 'LUMN', 'messageBoardId': 'finmb_260149', 'market': 'us_market', 'annualHoldingsTurnover': None, 'enterpriseToRevenue': 1.923, 'beta3Year': None, 'enterpriseToEbitda': 4.93, '52WeekChange': -0.3803354, 'morningStarRiskRating': None, 'forwardEps': 0.98, 'revenueQuarterlyGrowth': None, 'sharesOutstanding': 1035340032, 'fundInceptionDate': None, 'annualReportExpenseRatio': None, 'totalAssets': None, 'bookValue': 11.835, 'sharesShort': 150722902, 'sharesPercentSharesOut': 0.1456, 'fundFamily': None, 'lastFiscalYearEnd': 1640908800, 'heldPercentInstitutions': 0.80319, 'netIncomeToCommon': 1995000064, 'trailingEps': 1.94, 'lastDividendValue': 0.25, 'SandP52WeekChange': -0.16877365, 'priceToBook': 0.6869455, 'heldPercentInsiders': 0.00897, 'nextFiscalYearEnd': 1703980800, 'yield': None, 'mostRecentQuarter': 1656547200, 'shortRatio': 15.2, 'sharesShortPreviousMonthDate': 1659052800, 'floatShares': 952791803, 'beta': 0.966839, 'enterpriseValue': 36578308096, 'priceHint': 2, 'threeYearAverageReturn': None, 'lastSplitDate': 922924800, 'lastSplitFactor': '3:2', 'legalType': None, 'lastDividendDate': 1661731200, 'morningStarOverallRating': None, 'earningsQuarterlyGrowth': -0.32, 'priceToSalesTrailing12Months': 0.4425042, 'dateShortInterest': 1661904000, 'pegRatio': -0.3, 'ytdReturn': None, 'forwardPE': 8.295918, 'lastCapGain': None, 'shortPercentOfFloat': 0.1649, 'sharesShortPriorMonth': 147464400, 'impliedSharesOutstanding': 0, 'category': None, 'fiveYearAverageReturn': None, 'previousClose': 8.32, 'regularMarketOpen': 8.17, 'twoHundredDayAverage': 11.15045, 'trailingAnnualDividendYield': 0.12019231, 'payoutRatio': 0.5155, 'volume24Hr': None, 'regularMarketDayHigh': 8.25, 'navPrice': None, 'averageDailyVolume10Day': 20388660, 'regularMarketPreviousClose': 8.32, 'fiftyDayAverage': 10.3128, 'trailingAnnualDividendRate': 1, 'open': 8.17, 'toCurrency': None, 'averageVolume10days': 20388660, 'expireDate': None, 'algorithm': None, 'dividendRate': 1, 'exDividendDate': 1661731200, 'circulatingSupply': None, 'startDate': None, 'regularMarketDayLow': 7.95, 'currency': 'USD', 'trailingPE': 4.1907215, 'regularMarketVolume': 20119135, 'lastMarket': None, 'maxSupply': None, 'openInterest': None, 'marketCap': 8417314816, 'volumeAllCurrencies': None, 'strikePrice': None, 'averageVolume': 11202646, 'dayLow': 7.95, 'ask': 8.16, 'askSize': 4000, 'volume': 20119135, 'fiftyTwoWeekHigh': 14.5, 'fromCurrency': None, 'fiveYearAvgDividendYield': 10.43, 'fiftyTwoWeekLow': 7.95, 'bid': 8.13, 'tradeable': False, 'dividendYield': 0.123, 'bidSize': 21500, 'dayHigh': 8.25, 'coinMarketCapLink': None, 'regularMarketPrice': 8.13, 'logo_url': 'https://logo.clearbit.com/lumen.com'}\n"
     ]
    }
   ],
   "source": [
    "stock_symbols = [\"LUMN\", \"T\", \"BBY\", \"PEP\"]\n",
    "\n",
    "print(yf.Ticker(stock_symbols[0]))\n",
    "print(yf.Ticker(stock_symbols[0]).info)\n",
    "\n"
   ]
  },
  {
   "cell_type": "code",
   "execution_count": 6,
   "metadata": {},
   "outputs": [
    {
     "name": "stdout",
     "output_type": "stream",
     "text": [
      "[*********************100%***********************]  1 of 1 completed\n",
      "Lumen Technologies, Inc.\n",
      "LUMN\n",
      "Communication Services\n",
      "0.25\n",
      "8.17\n",
      "[*********************100%***********************]  1 of 1 completed\n",
      "AT&T Inc.\n",
      "T\n",
      "Communication Services\n",
      "0.278\n",
      "16.1\n",
      "[*********************100%***********************]  1 of 1 completed\n",
      "Best Buy Co., Inc.\n",
      "BBY\n",
      "Consumer Cyclical\n",
      "0.88\n",
      "67.69\n",
      "[*********************100%***********************]  1 of 1 completed\n",
      "Pepsico, Inc.\n",
      "PEP\n",
      "Consumer Defensive\n",
      "1.15\n",
      "168.39\n"
     ]
    },
    {
     "data": {
      "image/png": "[encoded data removed]",
      "text/plain": [
       "<Figure size 432x288 with 1 Axes>"
      ]
     },
     "metadata": {
      "needs_background": "light"
     },
     "output_type": "display_data"
    }
   ],
   "source": [
    "for stk in stock_symbols:\n",
    "    data = yf.download(stk,'2022-01-01', '2022-09-11')\n",
    "    print(yf.Ticker(stk).info['shortName'])\n",
    "    print(yf.Ticker(stk).info['symbol'])\n",
    "    print(yf.Ticker(stk).info['sector'])\n",
    "    print(yf.Ticker(stk).info['lastDividendValue'])\n",
    "    print(yf.Ticker(stk).info['open'])\n",
    "    data.Close.plot()"
   ]
  },
  {
   "cell_type": "code",
   "execution_count": 7,
   "metadata": {},
   "outputs": [
    {
     "name": "stdout",
     "output_type": "stream",
     "text": [
      "zip : 75202\n",
      "sector : Communication Services\n",
      "fullTimeEmployees : 172400\n",
      "longBusinessSummary : AT&T Inc. provides telecommunications, media, and technology services worldwide. Its Communications segment offers wireless voice and data communications services; and sells handsets, wireless data cards, wireless computing devices, and carrying cases and hands-free devices through its own company-owned stores, agents, and third-party retail stores. It also provides data, voice, security, cloud solutions, outsourcing, and managed and professional services, as well as customer premises equipment for multinational corporations, small and mid-sized businesses, governmental, and wholesale customers. In addition, this segment offers broadband fiber and legacy telephony voice communication services to residential customers. It markets its communications services and products under the AT&T, Cricket, AT&T PREPAID, and AT&T Fiber brand names. The company's Latin America segment provides wireless services in Mexico; and video services in Latin America. This segment markets its services and products under the AT&T and Unefon brand names. The company was formerly known as SBC Communications Inc. and changed its name to AT&T Inc. in 2005. AT&T Inc. was incorporated in 1983 and is headquartered in Dallas, Texas.\n",
      "city : Dallas\n",
      "phone : 210 821 4105\n",
      "state : TX\n",
      "country : United States\n",
      "companyOfficers : []\n",
      "website : https://www.att.com\n",
      "maxAge : 1\n",
      "address1 : 208 South Akard Street\n",
      "industry : Telecom Services\n",
      "ebitdaMargins : 0.33542\n",
      "profitMargins : 0.12725\n",
      "grossMargins : 0.53938\n",
      "operatingCashflow : 32758999040\n",
      "revenueGrowth : -0.171\n",
      "operatingMargins : 0.20861\n",
      "ebitda : 52527001600\n",
      "targetLowPrice : 10\n",
      "recommendationKey : hold\n",
      "grossProfits : 89057000000\n",
      "freeCashflow : 37593001984\n",
      "targetMedianPrice : 22\n",
      "currentPrice : 16.01\n",
      "earningsGrowth : 1.518\n",
      "currentRatio : 0.701\n",
      "returnOnAssets : 0.04205\n",
      "numberOfAnalystOpinions : 22\n",
      "targetMeanPrice : 21.29\n",
      "debtToEquity : 119.978\n",
      "returnOnEquity : 0.11311\n",
      "targetHighPrice : 28\n",
      "totalCash : 4100999936\n",
      "totalDebt : 162337996800\n",
      "totalRevenue : 156602007552\n",
      "totalCashPerShare : 0.575\n",
      "financialCurrency : USD\n",
      "revenuePerShare : 21.831\n",
      "quickRatio : 0.407\n",
      "recommendationMean : 2.7\n",
      "exchange : NYQ\n",
      "shortName : AT&T Inc.\n",
      "longName : AT&T Inc.\n",
      "exchangeTimezoneName : America/New_York\n",
      "exchangeTimezoneShortName : EDT\n",
      "isEsgPopulated : False\n",
      "gmtOffSetMilliseconds : -14400000\n",
      "quoteType : EQUITY\n",
      "symbol : T\n",
      "messageBoardId : finmb_100231\n",
      "market : us_market\n",
      "annualHoldingsTurnover : None\n",
      "enterpriseToRevenue : 1.851\n",
      "beta3Year : None\n",
      "enterpriseToEbitda : 5.519\n",
      "52WeekChange : -0.22637808\n",
      "morningStarRiskRating : None\n",
      "forwardEps : 2.5\n",
      "revenueQuarterlyGrowth : None\n",
      "sharesOutstanding : 7126000128\n",
      "fundInceptionDate : None\n",
      "annualReportExpenseRatio : None\n",
      "totalAssets : None\n",
      "bookValue : 16.524\n",
      "sharesShort : 77431033\n",
      "sharesPercentSharesOut : 0.0109\n",
      "fundFamily : None\n",
      "lastFiscalYearEnd : 1640908800\n",
      "heldPercentInstitutions : 0.54947\n",
      "netIncomeToCommon : 16186999808\n",
      "trailingEps : 2.26\n",
      "lastDividendValue : 0.278\n",
      "SandP52WeekChange : -0.16877365\n",
      "priceToBook : 0.9688937\n",
      "heldPercentInsiders : 0.00141\n",
      "nextFiscalYearEnd : 1703980800\n",
      "yield : None\n",
      "mostRecentQuarter : 1656547200\n",
      "shortRatio : 2.31\n",
      "sharesShortPreviousMonthDate : 1659052800\n",
      "floatShares : 7115524780\n",
      "beta : 0.611666\n",
      "enterpriseValue : 289885257728\n",
      "priceHint : 2\n",
      "threeYearAverageReturn : None\n",
      "lastSplitDate : 1649635200\n",
      "lastSplitFactor : 1324:1000\n",
      "legalType : None\n",
      "lastDividendDate : 1657238400\n",
      "morningStarOverallRating : None\n",
      "earningsQuarterlyGrowth : 1.648\n",
      "priceToSalesTrailing12Months : 0.7389829\n",
      "dateShortInterest : 1661904000\n",
      "pegRatio : -1.33\n",
      "ytdReturn : None\n",
      "forwardPE : 6.4040003\n",
      "lastCapGain : None\n",
      "shortPercentOfFloat : 0.0109\n",
      "sharesShortPriorMonth : 80102492\n",
      "impliedSharesOutstanding : 0\n",
      "category : None\n",
      "fiveYearAverageReturn : None\n",
      "previousClose : 16.24\n",
      "regularMarketOpen : 16.1\n",
      "twoHundredDayAverage : 18.87958\n",
      "trailingAnnualDividendYield : 0.09821429\n",
      "payoutRatio : 0.7058\n",
      "volume24Hr : None\n",
      "regularMarketDayHigh : 16.13\n",
      "navPrice : None\n",
      "averageDailyVolume10Day : 42795750\n",
      "regularMarketPreviousClose : 16.24\n",
      "fiftyDayAverage : 17.9758\n",
      "trailingAnnualDividendRate : 1.595\n",
      "open : 16.1\n",
      "toCurrency : None\n",
      "averageVolume10days : 42795750\n",
      "expireDate : None\n",
      "algorithm : None\n",
      "dividendRate : 1.11\n",
      "exDividendDate : 1657238400\n",
      "circulatingSupply : None\n",
      "startDate : None\n",
      "regularMarketDayLow : 15.85\n",
      "currency : USD\n",
      "trailingPE : 7.084071\n",
      "regularMarketVolume : 46225624\n",
      "lastMarket : None\n",
      "maxSupply : None\n",
      "openInterest : None\n",
      "marketCap : 115726204928\n",
      "volumeAllCurrencies : None\n",
      "strikePrice : None\n",
      "averageVolume : 37294447\n",
      "dayLow : 15.85\n",
      "ask : 16.05\n",
      "askSize : 2900\n",
      "volume : 46225624\n",
      "fiftyTwoWeekHigh : 21.53\n",
      "fromCurrency : None\n",
      "fiveYearAvgDividendYield : 6.82\n",
      "fiftyTwoWeekLow : 15.85\n",
      "bid : 16.01\n",
      "tradeable : False\n",
      "dividendYield : 0.069299996\n",
      "bidSize : 1400\n",
      "dayHigh : 16.13\n",
      "coinMarketCapLink : None\n",
      "regularMarketPrice : 16.01\n",
      "logo_url : https://logo.clearbit.com/att.com\n"
     ]
    }
   ],
   "source": [
    "for k,v in yf.Ticker(stock_symbol).info.items():\n",
    "    print(f\"{k} : {v}\")"
   ]
  },
  {
   "cell_type": "markdown",
   "metadata": {},
   "source": []
  }
 ],
 "metadata": {
  "kernelspec": {
   "display_name": "Python 3.10.0 64-bit",
   "language": "python",
   "name": "python3"
  },
  "language_info": {
   "codemirror_mode": {
    "name": "ipython",
    "version": 3
   },
   "file_extension": ".py",
   "mimetype": "text/x-python",
   "name": "python",
   "nbconvert_exporter": "python",
   "pygments_lexer": "ipython3",
   "version": "3.10.0"
  },
  "orig_nbformat": 4,
  "vscode": {
   "interpreter": {
    "hash": "55125eb385e0c0d755fc5f37386f2ea38c7258d1a247623fdfaaa2156dfe2ce3"
   }
  }
 },
 "nbformat": 4,
 "nbformat_minor": 2
}
